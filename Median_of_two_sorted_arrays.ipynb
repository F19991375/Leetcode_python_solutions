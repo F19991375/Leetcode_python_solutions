{
  "nbformat": 4,
  "nbformat_minor": 0,
  "metadata": {
    "colab": {
      "provenance": [],
      "authorship_tag": "ABX9TyPHI4t7GeLXS9pruPVcJVTp",
      "include_colab_link": true
    },
    "kernelspec": {
      "name": "python3",
      "display_name": "Python 3"
    },
    "language_info": {
      "name": "python"
    }
  },
  "cells": [
    {
      "cell_type": "markdown",
      "metadata": {
        "id": "view-in-github",
        "colab_type": "text"
      },
      "source": [
        "<a href=\"https://colab.research.google.com/github/F19991375/Leetcode_python_solutions/blob/main/Median_of_two_sorted_arrays.ipynb\" target=\"_parent\"><img src=\"https://colab.research.google.com/assets/colab-badge.svg\" alt=\"Open In Colab\"/></a>"
      ]
    },
    {
      "cell_type": "code",
      "execution_count": null,
      "metadata": {
        "id": "jOLHT3udWWKp"
      },
      "outputs": [],
      "source": [
        "class Solution:\n",
        "    def findMedianSortedArrays(self, nums1: List[int], nums2: List[int]) -> float:\n",
        "        n1 = len(nums1)\n",
        "        n2 = len(nums2)\n",
        "        if n1 > n2:\n",
        "            nums1, nums2 = nums2, nums1\n",
        "            n1, n2 = n2, n1\n",
        "        n = n1 + n2\n",
        "        half = n//2\n",
        "        low , high = 0, n1 - 1\n",
        "        while True:\n",
        "            mid1 = (high + low) // 2\n",
        "            mid2 = half - (mid1 + 1) - 1\n",
        "            leftnums1 = nums1[mid1] if mid1 >= 0 else float(\"-infinity\")\n",
        "            rightnums1 = nums1[mid1+1] if mid1+1 < n1 else float(\"infinity\")\n",
        "            leftnums2 = nums2[mid2] if mid2 >= 0 else float(\"-infinity\")\n",
        "            rightnums2 = nums2[mid2+1] if mid2+1 < n2 else float(\"infinity\")\n",
        "            if leftnums1 <= rightnums2 and leftnums2 <= rightnums1:\n",
        "                if n % 2:\n",
        "                    return min(rightnums1, rightnums2)\n",
        "                else:\n",
        "                    return (max(leftnums1, leftnums2) + min(rightnums1 , rightnums2)) / 2\n",
        "            elif leftnums1 > rightnums2:\n",
        "                high = mid1 - 1\n",
        "            else:\n",
        "                low = mid1 + 1\n",
        "\n",
        ""
      ]
    }
  ]
}