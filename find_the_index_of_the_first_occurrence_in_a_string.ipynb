{
  "nbformat": 4,
  "nbformat_minor": 0,
  "metadata": {
    "colab": {
      "provenance": [],
      "authorship_tag": "ABX9TyPN/irq915KJayF1QD6oToW",
      "include_colab_link": true
    },
    "kernelspec": {
      "name": "python3",
      "display_name": "Python 3"
    },
    "language_info": {
      "name": "python"
    }
  },
  "cells": [
    {
      "cell_type": "markdown",
      "metadata": {
        "id": "view-in-github",
        "colab_type": "text"
      },
      "source": [
        "<a href=\"https://colab.research.google.com/github/F19991375/Leetcode_python_solutions/blob/main/find_the_index_of_the_first_occurrence_in_a_string.ipynb\" target=\"_parent\"><img src=\"https://colab.research.google.com/assets/colab-badge.svg\" alt=\"Open In Colab\"/></a>"
      ]
    },
    {
      "cell_type": "code",
      "execution_count": null,
      "metadata": {
        "id": "Mt0i5xSFn9u7"
      },
      "outputs": [],
      "source": [
        "class Solution:\n",
        "    def strStr(self, haystack: str, needle: str) -> int:\n",
        "        if needle == haystack:\n",
        "            return 0\n",
        "        for i in range(len(haystack) - len(needle) + 1):\n",
        "            if needle == haystack[i: i + len(needle)]:\n",
        "                return i\n",
        "        return -1"
      ]
    }
  ]
}