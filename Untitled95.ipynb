{
  "nbformat": 4,
  "nbformat_minor": 0,
  "metadata": {
    "colab": {
      "provenance": [],
      "authorship_tag": "ABX9TyMdpk87JNfpaiazab0kLYqc",
      "include_colab_link": true
    },
    "kernelspec": {
      "name": "python3",
      "display_name": "Python 3"
    },
    "language_info": {
      "name": "python"
    }
  },
  "cells": [
    {
      "cell_type": "markdown",
      "metadata": {
        "id": "view-in-github",
        "colab_type": "text"
      },
      "source": [
        "<a href=\"https://colab.research.google.com/github/F19991375/Leetcode_python_solutions/blob/main/Untitled95.ipynb\" target=\"_parent\"><img src=\"https://colab.research.google.com/assets/colab-badge.svg\" alt=\"Open In Colab\"/></a>"
      ]
    },
    {
      "cell_type": "code",
      "execution_count": null,
      "metadata": {
        "id": "3uDyiCUr2xlH"
      },
      "outputs": [],
      "source": [
        "class Solution:\n",
        "    def isValid(self, s: str) -> bool:\n",
        "        _dict = { \"(\" : \")\", \"{\" : \"}\", \"[\" : \"]\"}\n",
        "        stack = []\n",
        "        for i in s:\n",
        "            if i in _dict:\n",
        "                stack.append(i)\n",
        "            elif len(stack) == 0 or i != _dict[stack[-1]]:\n",
        "                return False\n",
        "            else:\n",
        "                stack.pop()\n",
        "        if len(stack):\n",
        "            return False\n",
        "        return True\n",
        "\n",
        ""
      ]
    }
  ]
}