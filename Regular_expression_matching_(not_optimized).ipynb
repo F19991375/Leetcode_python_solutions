{
  "nbformat": 4,
  "nbformat_minor": 0,
  "metadata": {
    "colab": {
      "provenance": [],
      "authorship_tag": "ABX9TyO9ly2LtIqHSRSY0OyyksLn",
      "include_colab_link": true
    },
    "kernelspec": {
      "name": "python3",
      "display_name": "Python 3"
    },
    "language_info": {
      "name": "python"
    }
  },
  "cells": [
    {
      "cell_type": "markdown",
      "metadata": {
        "id": "view-in-github",
        "colab_type": "text"
      },
      "source": [
        "<a href=\"https://colab.research.google.com/github/F19991375/Leetcode_python_solutions/blob/main/Regular_expression_matching_(not_optimized).ipynb\" target=\"_parent\"><img src=\"https://colab.research.google.com/assets/colab-badge.svg\" alt=\"Open In Colab\"/></a>"
      ]
    },
    {
      "cell_type": "code",
      "execution_count": null,
      "metadata": {
        "id": "4D_QhWgKFJqT"
      },
      "outputs": [],
      "source": [
        "class Solution:\n",
        "    def isMatch(self, s: str, p: str) -> bool:\n",
        "        def dts (sp, pp):\n",
        "            if sp >= len(s) and pp >= len(p):\n",
        "                return True\n",
        "            if pp >= len(p):\n",
        "                return False\n",
        "            match = sp < len(s) and (s[sp] == p[pp] or p[pp] == '.')\n",
        "            if pp + 1 < len(p) and (p[pp+1] == \"*\"):\n",
        "                return dts(sp, pp+2) or (match and dts(sp + 1, pp))\n",
        "            if match:\n",
        "                return dts(sp+1, pp+1)\n",
        "            return False\n",
        "        return dts(0,0)\n"
      ]
    },
    {
      "cell_type": "code",
      "source": [],
      "metadata": {
        "id": "AZfEkMG-Ffwd"
      },
      "execution_count": null,
      "outputs": []
    }
  ]
}