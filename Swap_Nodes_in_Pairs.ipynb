{
  "nbformat": 4,
  "nbformat_minor": 0,
  "metadata": {
    "colab": {
      "provenance": [],
      "authorship_tag": "ABX9TyNdQA9qhsQH2E2OvDtzSglx",
      "include_colab_link": true
    },
    "kernelspec": {
      "name": "python3",
      "display_name": "Python 3"
    },
    "language_info": {
      "name": "python"
    }
  },
  "cells": [
    {
      "cell_type": "markdown",
      "metadata": {
        "id": "view-in-github",
        "colab_type": "text"
      },
      "source": [
        "<a href=\"https://colab.research.google.com/github/F19991375/Leetcode_python_solutions/blob/main/Swap_Nodes_in_Pairs.ipynb\" target=\"_parent\"><img src=\"https://colab.research.google.com/assets/colab-badge.svg\" alt=\"Open In Colab\"/></a>"
      ]
    },
    {
      "cell_type": "code",
      "execution_count": null,
      "metadata": {
        "id": "qaFtpNmWHQ4L"
      },
      "outputs": [],
      "source": [
        "# Definition for singly-linked list.\n",
        "# class ListNode:\n",
        "#     def __init__(self, val=0, next=None):\n",
        "#         self.val = val\n",
        "#         self.next = next\n",
        "class Solution:\n",
        "    def swapPairs(self, head: Optional[ListNode]) -> Optional[ListNode]:\n",
        "        temp = ListNode(0, head)\n",
        "        pre = temp\n",
        "        while pre.next and pre.next.next:\n",
        "            first = pre.next\n",
        "            second = pre.next.next\n",
        "            pre.next= second\n",
        "            first.next = second.next\n",
        "            second.next = first\n",
        "            pre = first\n",
        "        return temp.next\n",
        ""
      ]
    }
  ]
}