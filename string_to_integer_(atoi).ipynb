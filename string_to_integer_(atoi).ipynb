{
  "nbformat": 4,
  "nbformat_minor": 0,
  "metadata": {
    "colab": {
      "provenance": [],
      "authorship_tag": "ABX9TyO46eDNmTCJypXflXUTzq3S",
      "include_colab_link": true
    },
    "kernelspec": {
      "name": "python3",
      "display_name": "Python 3"
    },
    "language_info": {
      "name": "python"
    }
  },
  "cells": [
    {
      "cell_type": "markdown",
      "metadata": {
        "id": "view-in-github",
        "colab_type": "text"
      },
      "source": [
        "<a href=\"https://colab.research.google.com/github/F19991375/Leetcode_python_solutions/blob/main/string_to_integer_(atoi).ipynb\" target=\"_parent\"><img src=\"https://colab.research.google.com/assets/colab-badge.svg\" alt=\"Open In Colab\"/></a>"
      ]
    },
    {
      "cell_type": "code",
      "execution_count": null,
      "metadata": {
        "id": "QL8RakNNUeHt"
      },
      "outputs": [],
      "source": [
        "class Solution:\n",
        "    def myAtoi(self, s: str) -> int:\n",
        "        s = s.lstrip()\n",
        "        n = len(s)\n",
        "        if not n:\n",
        "            return 0\n",
        "        sign = 1\n",
        "        i = 0\n",
        "        if s[i] == '+':\n",
        "            i += 1\n",
        "        elif s[i] == '-':\n",
        "            sign *= -1\n",
        "            i += 1\n",
        "        res = 0\n",
        "        while i < n:\n",
        "            cur = s[i]\n",
        "            if not cur.isdigit():\n",
        "                break\n",
        "            res = res*10 + int(cur)\n",
        "            i += 1\n",
        "        res *= sign\n",
        "        if res < (-2)**31:\n",
        "            return (-2)**31\n",
        "        elif res > ((2)**31) -1:\n",
        "            return ((2)**31)-1\n",
        "        return res"
      ]
    }
  ]
}