{
  "nbformat": 4,
  "nbformat_minor": 0,
  "metadata": {
    "colab": {
      "provenance": [],
      "authorship_tag": "ABX9TyOPOwoFp0tVChloJqu/j8SK",
      "include_colab_link": true
    },
    "kernelspec": {
      "name": "python3",
      "display_name": "Python 3"
    },
    "language_info": {
      "name": "python"
    }
  },
  "cells": [
    {
      "cell_type": "markdown",
      "metadata": {
        "id": "view-in-github",
        "colab_type": "text"
      },
      "source": [
        "<a href=\"https://colab.research.google.com/github/F19991375/Leetcode_python_solutions/blob/main/Roman_to_Integer.ipynb\" target=\"_parent\"><img src=\"https://colab.research.google.com/assets/colab-badge.svg\" alt=\"Open In Colab\"/></a>"
      ]
    },
    {
      "cell_type": "code",
      "execution_count": null,
      "metadata": {
        "id": "RlAHx0Rk_Jsa"
      },
      "outputs": [],
      "source": [
        "class Solution:\n",
        "    def romanToInt(self, s: str) -> int:\n",
        "        symbols = {'M' : 1000, 'D' : 500, 'C' : 100,\n",
        "         'L' : 50, 'X' : 10, 'V' : 5, 'I' : 1}\n",
        "        res = 0\n",
        "        for i in range(len(s) - 1):\n",
        "            if symbols[s[i]] < symbols[s[i+1]]:\n",
        "                res -= symbols[s[i]]\n",
        "            else:\n",
        "                res += symbols[s[i]]\n",
        "        res += symbols[s[-1]]\n",
        "        return res"
      ]
    }
  ]
}