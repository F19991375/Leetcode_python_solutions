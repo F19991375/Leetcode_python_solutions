{
  "nbformat": 4,
  "nbformat_minor": 0,
  "metadata": {
    "colab": {
      "provenance": [],
      "authorship_tag": "ABX9TyPoVr5d0qrQ51K3pqkeECX1",
      "include_colab_link": true
    },
    "kernelspec": {
      "name": "python3",
      "display_name": "Python 3"
    },
    "language_info": {
      "name": "python"
    }
  },
  "cells": [
    {
      "cell_type": "markdown",
      "metadata": {
        "id": "view-in-github",
        "colab_type": "text"
      },
      "source": [
        "<a href=\"https://colab.research.google.com/github/F19991375/Leetcode_python_solutions/blob/main/letter_combinations_of_a_phone_number.ipynb\" target=\"_parent\"><img src=\"https://colab.research.google.com/assets/colab-badge.svg\" alt=\"Open In Colab\"/></a>"
      ]
    },
    {
      "cell_type": "code",
      "execution_count": null,
      "metadata": {
        "id": "dWqlwD6S78Lc"
      },
      "outputs": [],
      "source": [
        "class Solution:\n",
        "    def letterCombinations(self, digits: str) -> List[str]:\n",
        "        letters = {'2': 'abc', '3': 'def', '4': 'ghi', '5': 'jkl', '6':'mno', '7':'pqrs', '8':'tuv', '9':'wxyz'}\n",
        "        lst = []\n",
        "        def backtracker(i, curstr):\n",
        "            if len(curstr) == len(digits):#base case\n",
        "                lst.append(curstr)\n",
        "                return\n",
        "            for c in letters[digits[i]]:\n",
        "                backtracker(i + 1, curstr + c)\n",
        "        if digits:\n",
        "            backtracker(0, '')\n",
        "        return lst\n"
      ]
    }
  ]
}