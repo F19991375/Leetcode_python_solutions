{
  "nbformat": 4,
  "nbformat_minor": 0,
  "metadata": {
    "colab": {
      "provenance": [],
      "authorship_tag": "ABX9TyPumzNk400yM+vrZVZfFjMM",
      "include_colab_link": true
    },
    "kernelspec": {
      "name": "python3",
      "display_name": "Python 3"
    },
    "language_info": {
      "name": "python"
    }
  },
  "cells": [
    {
      "cell_type": "markdown",
      "metadata": {
        "id": "view-in-github",
        "colab_type": "text"
      },
      "source": [
        "<a href=\"https://colab.research.google.com/github/F19991375/Leetcode_python_solutions/blob/main/Longest_palindromic_substring.ipynb\" target=\"_parent\"><img src=\"https://colab.research.google.com/assets/colab-badge.svg\" alt=\"Open In Colab\"/></a>"
      ]
    },
    {
      "cell_type": "code",
      "execution_count": null,
      "metadata": {
        "id": "708gN11nclDn"
      },
      "outputs": [],
      "source": [
        "class Solution:\n",
        "    def longestPalindrome(self, s: str) -> str:\n",
        "        n = len(s)\n",
        "        if n == 0:\n",
        "            return S\n",
        "        res = ''\n",
        "        res_length = 0\n",
        "        for i in range(n):\n",
        "            l , r = i , i\n",
        "            while l >= 0 and r < n and s[l] == s[r]:\n",
        "                if r-l+1 > res_length:\n",
        "                    res = s[l: r+1]\n",
        "                    res_length = r-l+1\n",
        "                l -= 1\n",
        "                r += 1\n",
        "            l , r = i, i+1\n",
        "            while l >= 0 and r < n and s[l]==s[r]:\n",
        "                if r-l+1 > res_length:\n",
        "                    res = s[l:r+1]\n",
        "                    res_length = r-l+1\n",
        "                l -= 1\n",
        "                r += 1\n",
        "        return res\n",
        "\n",
        ""
      ]
    }
  ]
}