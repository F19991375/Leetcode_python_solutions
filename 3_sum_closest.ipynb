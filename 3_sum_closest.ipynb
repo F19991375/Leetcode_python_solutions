{
  "nbformat": 4,
  "nbformat_minor": 0,
  "metadata": {
    "colab": {
      "provenance": [],
      "authorship_tag": "ABX9TyPJg6jm7P4alcHsshfSiNN+",
      "include_colab_link": true
    },
    "kernelspec": {
      "name": "python3",
      "display_name": "Python 3"
    },
    "language_info": {
      "name": "python"
    }
  },
  "cells": [
    {
      "cell_type": "markdown",
      "metadata": {
        "id": "view-in-github",
        "colab_type": "text"
      },
      "source": [
        "<a href=\"https://colab.research.google.com/github/F19991375/Leetcode_python_solutions/blob/main/3_sum_closest.ipynb\" target=\"_parent\"><img src=\"https://colab.research.google.com/assets/colab-badge.svg\" alt=\"Open In Colab\"/></a>"
      ]
    },
    {
      "cell_type": "code",
      "execution_count": null,
      "metadata": {
        "id": "VJh4XnPXyrHj"
      },
      "outputs": [],
      "source": [
        "class Solution:\n",
        "    def threeSumClosest(self, nums: List[int], target: int) -> int:\n",
        "        nums.sort()\n",
        "        length = len(nums)\n",
        "        closest = float('-inf')\n",
        "        for i in range(length - 2):\n",
        "            if i > 0 and nums[i] == nums[i - 1]:\n",
        "                continue\n",
        "            left , right = i + 1, length - 1\n",
        "            while left < right:\n",
        "                current = nums[i] + nums[left] + nums[right]\n",
        "                if current == target:\n",
        "                    return target\n",
        "                if abs(current - target) < abs(closest - target):\n",
        "                    closest = current\n",
        "\n",
        "                elif current < target:\n",
        "                    left += 1\n",
        "                else:\n",
        "                    right -= 1\n",
        "\n",
        "        return closest\n",
        "\n",
        "\n",
        "\n",
        ""
      ]
    }
  ]
}