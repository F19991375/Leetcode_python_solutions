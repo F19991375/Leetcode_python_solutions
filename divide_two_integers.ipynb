{
  "nbformat": 4,
  "nbformat_minor": 0,
  "metadata": {
    "colab": {
      "provenance": [],
      "authorship_tag": "ABX9TyPB5JQAjmtpFYVomHgUvgor",
      "include_colab_link": true
    },
    "kernelspec": {
      "name": "python3",
      "display_name": "Python 3"
    },
    "language_info": {
      "name": "python"
    }
  },
  "cells": [
    {
      "cell_type": "markdown",
      "metadata": {
        "id": "view-in-github",
        "colab_type": "text"
      },
      "source": [
        "<a href=\"https://colab.research.google.com/github/F19991375/Leetcode_python_solutions/blob/main/divide_two_integers.ipynb\" target=\"_parent\"><img src=\"https://colab.research.google.com/assets/colab-badge.svg\" alt=\"Open In Colab\"/></a>"
      ]
    },
    {
      "cell_type": "code",
      "execution_count": null,
      "metadata": {
        "id": "6x8Jbn8vpZe-"
      },
      "outputs": [],
      "source": [
        "class Solution:\n",
        "    def divide(self, dividend: int, divisor: int) -> int:\n",
        "        d = abs(dividend)\n",
        "        dv = abs(divisor)\n",
        "        q = 0\n",
        "        while d >= dv:\n",
        "            temp = dv\n",
        "            mul = 1\n",
        "            while d >= temp:\n",
        "                d -= temp\n",
        "                q += mul\n",
        "                mul += mul\n",
        "                temp += temp\n",
        "        if (dividend > 0 and divisor < 0) or (dividend < 0 and divisor > 0):\n",
        "            q = -q\n",
        "        if q > 2147483647:\n",
        "            return 2147483647\n",
        "        elif q < -21477483648:\n",
        "            return -21477483648\n",
        "        else:\n",
        "            return q\n",
        "\n",
        ""
      ]
    }
  ]
}