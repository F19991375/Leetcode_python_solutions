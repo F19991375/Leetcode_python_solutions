{
  "nbformat": 4,
  "nbformat_minor": 0,
  "metadata": {
    "colab": {
      "provenance": [],
      "authorship_tag": "ABX9TyN5IWxP9Gv9HNKOGMGGtYTL",
      "include_colab_link": true
    },
    "kernelspec": {
      "name": "python3",
      "display_name": "Python 3"
    },
    "language_info": {
      "name": "python"
    }
  },
  "cells": [
    {
      "cell_type": "markdown",
      "metadata": {
        "id": "view-in-github",
        "colab_type": "text"
      },
      "source": [
        "<a href=\"https://colab.research.google.com/github/F19991375/Leetcode_python_solutions/blob/main/reverse_nodes_in_k_group.ipynb\" target=\"_parent\"><img src=\"https://colab.research.google.com/assets/colab-badge.svg\" alt=\"Open In Colab\"/></a>"
      ]
    },
    {
      "cell_type": "code",
      "execution_count": 5,
      "metadata": {
        "id": "PuJroEmbxrQS"
      },
      "outputs": [],
      "source": [
        "# Definition for singly-linked list.\n",
        "# class ListNode:\n",
        "#     def __init__(self, val=0, next=None):\n",
        "#         self.val = val\n",
        "#         self.next = next\n",
        "class Solution:\n",
        "    def reverseKGroup(self, head: Optional[ListNode], k: int) -> Optional[ListNode]:\n",
        "        count = 0\n",
        "        temp = head\n",
        "        while temp and count < k:\n",
        "            temp = temp.next\n",
        "            count += 1\n",
        "        if count < k:\n",
        "            return head\n",
        "        pre, cur = None, head\n",
        "        for i in range(k):\n",
        "            nxt = cur.next\n",
        "            cur.next = pre\n",
        "            pre = cur\n",
        "            cur = nxt\n",
        "        if cur:\n",
        "            head.next = self.reverseKGroup(cur, k)\n",
        "        return pre\n",
        "\n",
        ""
      ]
    }
  ]
}