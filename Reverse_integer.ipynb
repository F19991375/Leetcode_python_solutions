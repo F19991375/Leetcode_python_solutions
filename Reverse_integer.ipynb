{
  "nbformat": 4,
  "nbformat_minor": 0,
  "metadata": {
    "colab": {
      "provenance": [],
      "authorship_tag": "ABX9TyO9PQRPljPP2qfnIPVH8cu2",
      "include_colab_link": true
    },
    "kernelspec": {
      "name": "python3",
      "display_name": "Python 3"
    },
    "language_info": {
      "name": "python"
    }
  },
  "cells": [
    {
      "cell_type": "markdown",
      "metadata": {
        "id": "view-in-github",
        "colab_type": "text"
      },
      "source": [
        "<a href=\"https://colab.research.google.com/github/F19991375/Leetcode_python_solutions/blob/main/Reverse_integer.ipynb\" target=\"_parent\"><img src=\"https://colab.research.google.com/assets/colab-badge.svg\" alt=\"Open In Colab\"/></a>"
      ]
    },
    {
      "cell_type": "code",
      "execution_count": null,
      "metadata": {
        "id": "JCTGdtKl5AwH"
      },
      "outputs": [],
      "source": [
        "class Solution:\n",
        "    def reverse(self, x: int) -> int:\n",
        "        sign, x = (1,x) if x >= 0 else  (-1, -x)\n",
        "        res = 0\n",
        "        while x > 0:\n",
        "            res = res*10 + x%10\n",
        "            x //= 10\n",
        "        res *= sign\n",
        "        if res < (-2)**31 and res>((2)**31)-1:\n",
        "            return 0\n",
        "        else:\n",
        "            return res\n",
        ""
      ]
    }
  ]
}