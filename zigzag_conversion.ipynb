{
  "nbformat": 4,
  "nbformat_minor": 0,
  "metadata": {
    "colab": {
      "provenance": [],
      "authorship_tag": "ABX9TyMCr3p8Sd3pLpG6ZtmBDM8s",
      "include_colab_link": true
    },
    "kernelspec": {
      "name": "python3",
      "display_name": "Python 3"
    },
    "language_info": {
      "name": "python"
    }
  },
  "cells": [
    {
      "cell_type": "markdown",
      "metadata": {
        "id": "view-in-github",
        "colab_type": "text"
      },
      "source": [
        "<a href=\"https://colab.research.google.com/github/F19991375/Leetcode_python_solutions/blob/main/zigzag_conversion.ipynb\" target=\"_parent\"><img src=\"https://colab.research.google.com/assets/colab-badge.svg\" alt=\"Open In Colab\"/></a>"
      ]
    },
    {
      "cell_type": "code",
      "execution_count": null,
      "metadata": {
        "id": "UDxnps0ttN2H"
      },
      "outputs": [],
      "source": [
        "class Solution:\n",
        "    def convert(self, s: str, numRows: int) -> str:\n",
        "        if numRows == 1:\n",
        "            return s\n",
        "        m = [[] for _ in range(numRows)]\n",
        "        row, flag = 0, True\n",
        "        for ch in s:\n",
        "            if flag:\n",
        "                m[row].append(ch)\n",
        "                row += 1\n",
        "            else:\n",
        "                row -= 1\n",
        "                m[row].append(ch)\n",
        "            if row == numRows:\n",
        "                flag = not flag\n",
        "                row -= 1\n",
        "            elif row == 0:\n",
        "                flag = not flag\n",
        "                row += 1\n",
        "        return \"\".join([\"\".join(i) for i in m])\n"
      ]
    }
  ]
}