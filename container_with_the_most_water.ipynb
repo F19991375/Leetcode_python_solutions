{
  "nbformat": 4,
  "nbformat_minor": 0,
  "metadata": {
    "colab": {
      "provenance": [],
      "authorship_tag": "ABX9TyMijEdjRja2h03q88vSwLto",
      "include_colab_link": true
    },
    "kernelspec": {
      "name": "python3",
      "display_name": "Python 3"
    },
    "language_info": {
      "name": "python"
    }
  },
  "cells": [
    {
      "cell_type": "markdown",
      "metadata": {
        "id": "view-in-github",
        "colab_type": "text"
      },
      "source": [
        "<a href=\"https://colab.research.google.com/github/F19991375/Leetcode_python_solutions/blob/main/container_with_the_most_water.ipynb\" target=\"_parent\"><img src=\"https://colab.research.google.com/assets/colab-badge.svg\" alt=\"Open In Colab\"/></a>"
      ]
    },
    {
      "cell_type": "code",
      "source": [
        "#Not optmised way\n",
        "class Solution:\n",
        "    def maxArea(self, height: List[int]) -> int:\n",
        "        left, right = 0, len(height) - 1\n",
        "        res = 0\n",
        "        while left < right:\n",
        "            a = (right - left) * (min(height[left], height[right]))\n",
        "            res = a if a > res else res\n",
        "            if height[left] < height[right]:\n",
        "                left += 1\n",
        "            else:\n",
        "                right -= 1\n",
        "        return res"
      ],
      "metadata": {
        "id": "tW53hA7i6FF_"
      },
      "execution_count": null,
      "outputs": []
    },
    {
      "cell_type": "code",
      "source": [
        "#Optimised in coding\n",
        "class Solution:\n",
        "    def maxArea(self, height: List[int]) -> int:\n",
        "        left, right = 0, len(height) - 1\n",
        "        res = 0\n",
        "        while left < right:\n",
        "            leftval , rightval = height[left], height[right]\n",
        "            a = (right - left) * (min(leftval, rightval))\n",
        "            res = a if a > res else res\n",
        "            if leftval < rightval:\n",
        "                left += 1\n",
        "            else:\n",
        "                right -= 1\n",
        "        return res"
      ],
      "metadata": {
        "id": "PwZI2v066IAq"
      },
      "execution_count": null,
      "outputs": []
    },
    {
      "cell_type": "code",
      "source": [
        "#Optimised logically\n",
        "class Solution:\n",
        "    def maxArea(self, height: List[int]) -> int:\n",
        "        m = max(height)\n",
        "        left, right = 0, len(height) - 1\n",
        "        res = 0\n",
        "        while left < right:\n",
        "            leftval , rightval = height[left], height[right]\n",
        "            a = (right - left) * (min(leftval, rightval))\n",
        "            res = a if a > res else res\n",
        "            if leftval < rightval:\n",
        "                left += 1\n",
        "            else:\n",
        "                right -= 1\n",
        "            if res > (right - left) * m:\n",
        "                break\n",
        "        return res"
      ],
      "metadata": {
        "id": "ezML7Qma6H0L"
      },
      "execution_count": null,
      "outputs": []
    }
  ]
}