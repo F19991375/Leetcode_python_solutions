{
  "nbformat": 4,
  "nbformat_minor": 0,
  "metadata": {
    "colab": {
      "provenance": [],
      "authorship_tag": "ABX9TyOV9MHThnpmbvk1oRL01j7e",
      "include_colab_link": true
    },
    "kernelspec": {
      "name": "python3",
      "display_name": "Python 3"
    },
    "language_info": {
      "name": "python"
    }
  },
  "cells": [
    {
      "cell_type": "markdown",
      "metadata": {
        "id": "view-in-github",
        "colab_type": "text"
      },
      "source": [
        "<a href=\"https://colab.research.google.com/github/F19991375/Leetcode_python_solutions/blob/main/greatest_common_divisor.ipynb\" target=\"_parent\"><img src=\"https://colab.research.google.com/assets/colab-badge.svg\" alt=\"Open In Colab\"/></a>"
      ]
    },
    {
      "cell_type": "code",
      "execution_count": 7,
      "metadata": {
        "id": "fVtMHSUjpDQK"
      },
      "outputs": [],
      "source": [
        "#ب . م . م دوعدد را با استفاده از تابع بازگشتی محاصبه کنید.\n",
        "def myf(n1, n2):\n",
        "  if n2 == 0:\n",
        "    return n1\n",
        "  return myf(n2, n1 % n2)"
      ]
    },
    {
      "cell_type": "code",
      "source": [
        "myf(12, 8)"
      ],
      "metadata": {
        "colab": {
          "base_uri": "https://localhost:8080/"
        },
        "id": "Bz8949BypUxg",
        "outputId": "f4d6a14e-60c1-448a-a215-b4a629135610"
      },
      "execution_count": 8,
      "outputs": [
        {
          "output_type": "execute_result",
          "data": {
            "text/plain": [
              "4"
            ]
          },
          "metadata": {},
          "execution_count": 8
        }
      ]
    }
  ]
}