{
  "nbformat": 4,
  "nbformat_minor": 0,
  "metadata": {
    "colab": {
      "provenance": [],
      "authorship_tag": "ABX9TyMajFbcXHuyQ7+hLCEcvu6E",
      "include_colab_link": true
    },
    "kernelspec": {
      "name": "python3",
      "display_name": "Python 3"
    },
    "language_info": {
      "name": "python"
    }
  },
  "cells": [
    {
      "cell_type": "markdown",
      "metadata": {
        "id": "view-in-github",
        "colab_type": "text"
      },
      "source": [
        "<a href=\"https://colab.research.google.com/github/F19991375/Leetcode_python_solutions/blob/main/Merge_Two_Sorted_Lists.ipynb\" target=\"_parent\"><img src=\"https://colab.research.google.com/assets/colab-badge.svg\" alt=\"Open In Colab\"/></a>"
      ]
    },
    {
      "cell_type": "code",
      "execution_count": null,
      "metadata": {
        "id": "mwv_kGDs1wIw"
      },
      "outputs": [],
      "source": [
        "# Definition for singly-linked list.\n",
        "# class ListNode:\n",
        "#     def __init__(self, val=0, next=None):\n",
        "#         self.val = val\n",
        "#         self.next = next\n",
        "class Solution:\n",
        "    def mergeTwoLists(self, list1: Optional[ListNode], list2: Optional[ListNode]) -> Optional[ListNode]:\n",
        "        temp = ListNode(0, None)\n",
        "        cur = temp\n",
        "        while list1 and list2:\n",
        "            if list1.val < list2.val:\n",
        "                cur.next = list1\n",
        "                list1 = list1.next\n",
        "            else:\n",
        "                cur.next = list2\n",
        "                list2 = list2.next\n",
        "            cur = cur.next\n",
        "        if list1:\n",
        "            cur.next = list1\n",
        "        else:\n",
        "            cur.next = list2\n",
        "        return temp.next\n",
        ""
      ]
    }
  ]
}