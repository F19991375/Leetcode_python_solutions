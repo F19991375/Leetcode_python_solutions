{
  "nbformat": 4,
  "nbformat_minor": 0,
  "metadata": {
    "colab": {
      "provenance": [],
      "authorship_tag": "ABX9TyPK5iMG1l6Ny88RoOcQV+mb",
      "include_colab_link": true
    },
    "kernelspec": {
      "name": "python3",
      "display_name": "Python 3"
    },
    "language_info": {
      "name": "python"
    }
  },
  "cells": [
    {
      "cell_type": "markdown",
      "metadata": {
        "id": "view-in-github",
        "colab_type": "text"
      },
      "source": [
        "<a href=\"https://colab.research.google.com/github/F19991375/Leetcode_python_solutions/blob/main/general_tree.ipynb\" target=\"_parent\"><img src=\"https://colab.research.google.com/assets/colab-badge.svg\" alt=\"Open In Colab\"/></a>"
      ]
    },
    {
      "cell_type": "code",
      "execution_count": 32,
      "metadata": {
        "colab": {
          "base_uri": "https://localhost:8080/"
        },
        "id": "SZ8nIndGP4fz",
        "outputId": "7c1fdea1-4a81-44a7-9066-9fa61cbf71f2"
      },
      "outputs": [
        {
          "output_type": "stream",
          "name": "stdout",
          "text": [
            "Electronics\n",
            "laptop\n",
            "phones\n",
            "tv\n",
            "#####\n",
            "0\n",
            "#####\n",
            "1\n",
            "1\n",
            "1\n",
            "All of the children are at the same level\n",
            "#####\n"
          ]
        }
      ],
      "source": [
        "class Tree_node:\n",
        "  def __init__(self, data):\n",
        "    self.data = data\n",
        "    self.children = []\n",
        "    self.parent = None\n",
        "    self.level = 0\n",
        "\n",
        "  def add_child(self, child):\n",
        "    self.children.append(child)\n",
        "    child.parent = self\n",
        "    child.level = child.parent.level + 1\n",
        "\n",
        "  def create_tree():\n",
        "    root = Tree_node(\"elctronics\")\n",
        "\n",
        "    laptop = Tree_node(\"laptops\")\n",
        "    root.add_child(laptop)\n",
        "    laptop.add_child(Tree_node(\"DELL\"))\n",
        "    laptop.add_child(Tree_node(\"APPLE\"))\n",
        "    laptop.add_child(Tree_node(\"ASUS\"))\n",
        "    laptop.add_child(Tree_node(\"MSI\"))\n",
        "\n",
        "    phones = Tree_node(\"phones\")\n",
        "    root.add_child(phones)\n",
        "    phones.add_child(Tree_node(\"samsung\"))\n",
        "    phones.add_child(Tree_node(\"motorola\"))\n",
        "    phones.add_child(Tree_node(\"apple\" ))\n",
        "\n",
        "    tv = Tree_node(\"tv\")\n",
        "    root.add_child(tv)\n",
        "    tv.add_child(Ttee_node(\"samsung\"))\n",
        "    tv.add_child(Tree_node(\"sony\"))\n",
        "    return root\n",
        "\n",
        "\n",
        "\n",
        "\n",
        "\n",
        "\n",
        "\n",
        "\n",
        "\n",
        "if __name__ == \"__main__\":\n",
        "  root = Tree_node(\"Electronics\")\n",
        "  laptop = Tree_node(\"laptops\")\n",
        "  phones = Tree_node(\"phones\")\n",
        "  tv = Tree_node(\"tv\")\n",
        "  root.add_child(Tree_node(\"laptop\"))\n",
        "  root.add_child(Tree_node(\"phones\"))\n",
        "  root.add_child(Tree_node(\"tv\"))\n",
        "  print(root.data)\n",
        "  print(root.children[0].data)\n",
        "  print(root.children[1].data)\n",
        "  print(root.children[2].data)\n",
        "  print(\"#####\")\n",
        "  print(root.level)\n",
        "  print(\"#####\")\n",
        "  print(root.children[0].level)\n",
        "  print(root.children[1].level)\n",
        "  print(root.children[2].level)\n",
        "\n",
        "  print(\"All of the children are at the same level\")\n",
        "  print(\"#####\")\n",
        "\n",
        ""
      ]
    },
    {
      "cell_type": "code",
      "source": [],
      "metadata": {
        "id": "58tNCg3xVHfb"
      },
      "execution_count": null,
      "outputs": []
    }
  ]
}