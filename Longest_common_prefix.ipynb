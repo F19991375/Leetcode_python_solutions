{
  "nbformat": 4,
  "nbformat_minor": 0,
  "metadata": {
    "colab": {
      "provenance": [],
      "authorship_tag": "ABX9TyPFE67a5L/5yMKYVyN9AqJ6",
      "include_colab_link": true
    },
    "kernelspec": {
      "name": "python3",
      "display_name": "Python 3"
    },
    "language_info": {
      "name": "python"
    }
  },
  "cells": [
    {
      "cell_type": "markdown",
      "metadata": {
        "id": "view-in-github",
        "colab_type": "text"
      },
      "source": [
        "<a href=\"https://colab.research.google.com/github/F19991375/Leetcode_python_solutions/blob/main/Longest_common_prefix.ipynb\" target=\"_parent\"><img src=\"https://colab.research.google.com/assets/colab-badge.svg\" alt=\"Open In Colab\"/></a>"
      ]
    },
    {
      "cell_type": "code",
      "execution_count": null,
      "metadata": {
        "id": "54GJJEOK0ODt"
      },
      "outputs": [],
      "source": [
        "#The first way\n",
        "class Solution:\n",
        "    def longestCommonPrefix(self, strs: List[str]) -> str:\n",
        "        if strs:\n",
        "            _str = min(strs)\n",
        "            for i in strs:\n",
        "                j = 0\n",
        "                while j < len(_str) and j < len(i):\n",
        "                    if _str[j] != i[j]:\n",
        "                        _str = _str[:j]\n",
        "                    j += 1\n",
        "            return _str\n",
        "        else:\n",
        "            return \"\"\n",
        ""
      ]
    },
    {
      "cell_type": "code",
      "source": [
        "#the second way\n",
        "class Solution:\n",
        "    def longestCommonPrefix(self, strs: List[str]) -> str:\n",
        "        strs.sort()\n",
        "        first = strs[0]\n",
        "        last = strs[-1]\n",
        "        for i in range(min(len(first) , len(last))):\n",
        "            if first[i] != last[i]:\n",
        "                return first[:i]\n",
        "        return first\n",
        "\n",
        ""
      ],
      "metadata": {
        "id": "6tFoKI_d0VeA"
      },
      "execution_count": null,
      "outputs": []
    }
  ]
}