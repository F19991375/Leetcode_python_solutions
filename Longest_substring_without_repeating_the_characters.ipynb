{
  "nbformat": 4,
  "nbformat_minor": 0,
  "metadata": {
    "colab": {
      "provenance": [],
      "authorship_tag": "ABX9TyNNRM0OOozQOD9NonLSiWZs",
      "include_colab_link": true
    },
    "kernelspec": {
      "name": "python3",
      "display_name": "Python 3"
    },
    "language_info": {
      "name": "python"
    }
  },
  "cells": [
    {
      "cell_type": "markdown",
      "metadata": {
        "id": "view-in-github",
        "colab_type": "text"
      },
      "source": [
        "<a href=\"https://colab.research.google.com/github/F19991375/Leetcode_python_solutions/blob/main/Longest_substring_without_repeating_the_characters.ipynb\" target=\"_parent\"><img src=\"https://colab.research.google.com/assets/colab-badge.svg\" alt=\"Open In Colab\"/></a>"
      ]
    },
    {
      "cell_type": "code",
      "execution_count": 1,
      "metadata": {
        "id": "1H9Yic3zzCmx"
      },
      "outputs": [],
      "source": [
        "class Solution:\n",
        "    def lengthOfLongestSubstring(self, s: str) -> int:\n",
        "        _set = set()\n",
        "        i = j = 0\n",
        "        length = len(s)\n",
        "        length , _max = (length, 0) if length else (0, 0)\n",
        "        while j < length:\n",
        "            if s[j] not in _set:\n",
        "                _set.add(s[j])\n",
        "                if _max <= j-i:\n",
        "                    _max = j - i + 1\n",
        "                j += 1\n",
        "            else:\n",
        "                _set.remove(s[i])\n",
        "                i += 1\n",
        "        return _max\n",
        ""
      ]
    },
    {
      "cell_type": "code",
      "source": [],
      "metadata": {
        "id": "DBticPZBzzP0"
      },
      "execution_count": null,
      "outputs": []
    }
  ]
}